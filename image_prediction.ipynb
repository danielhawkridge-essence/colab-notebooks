{
  "nbformat": 4,
  "nbformat_minor": 0,
  "metadata": {
    "colab": {
      "name": "image_prediction.ipynb",
      "provenance": [],
      "include_colab_link": true
    },
    "kernelspec": {
      "name": "python3",
      "display_name": "Python 3"
    },
    "language_info": {
      "name": "python"
    }
  },
  "cells": [
    {
      "cell_type": "markdown",
      "metadata": {
        "id": "view-in-github",
        "colab_type": "text"
      },
      "source": [
        "<a href=\"https://colab.research.google.com/github/danielhawkridge-essence/colab-notebooks/blob/main/image_prediction.ipynb\" target=\"_parent\"><img src=\"https://colab.research.google.com/assets/colab-badge.svg\" alt=\"Open In Colab\"/></a>"
      ]
    },
    {
      "cell_type": "markdown",
      "metadata": {
        "id": "9K5vUM-GPpZv"
      },
      "source": [
        "Image prediction is an example of how powerful machine learning has become.\n",
        "\n",
        "In this notebook we're going to use a toy dataset called fashion mnist. It consists of pictures of clothes across 10 categories - T-shirt / tops, trousers, pullovers, dresses, coats, sandals, shirts, trainers, bags, and ankle boots. \n",
        "\n",
        "Our task is to build a image recognition model that can detect which fashion item we're showing the model."
      ]
    },
    {
      "cell_type": "markdown",
      "metadata": {
        "id": "lbHd9DGMVnT-"
      },
      "source": [
        "One of the most **amazing** parts of colab is that you can use hardware acceleration for free - giving you access to GPU or Google-only TPU (Tensor processing units) for your code. This hardware makes what we're about to do so much faster:\n",
        "\n",
        "# DON'T MISS THIS STEP:\n",
        "\n",
        "Go to Runtime > Change runtime type > Change from none to GPU or TPU"
      ]
    },
    {
      "cell_type": "code",
      "metadata": {
        "id": "IsWRoc1IQhZl",
        "colab": {
          "base_uri": "https://localhost:8080/"
        },
        "outputId": "616f891a-fff7-496d-9651-e493a87e8df6"
      },
      "source": [
        "import tensorflow as tf\n",
        "(x_train, y_train), (x_test, y_test) = tf.keras.datasets.fashion_mnist.load_data()"
      ],
      "execution_count": 3,
      "outputs": [
        {
          "output_type": "stream",
          "name": "stdout",
          "text": [
            "Downloading data from https://storage.googleapis.com/tensorflow/tf-keras-datasets/train-labels-idx1-ubyte.gz\n",
            "32768/29515 [=================================] - 0s 0us/step\n",
            "40960/29515 [=========================================] - 0s 0us/step\n",
            "Downloading data from https://storage.googleapis.com/tensorflow/tf-keras-datasets/train-images-idx3-ubyte.gz\n",
            "26427392/26421880 [==============================] - 0s 0us/step\n",
            "26435584/26421880 [==============================] - 0s 0us/step\n",
            "Downloading data from https://storage.googleapis.com/tensorflow/tf-keras-datasets/t10k-labels-idx1-ubyte.gz\n",
            "16384/5148 [===============================================================================================] - 0s 0us/step\n",
            "Downloading data from https://storage.googleapis.com/tensorflow/tf-keras-datasets/t10k-images-idx3-ubyte.gz\n",
            "4423680/4422102 [==============================] - 0s 0us/step\n",
            "4431872/4422102 [==============================] - 0s 0us/step\n"
          ]
        }
      ]
    },
    {
      "cell_type": "code",
      "metadata": {
        "colab": {
          "base_uri": "https://localhost:8080/",
          "height": 129
        },
        "id": "SbyVIAvaQjjg",
        "outputId": "cadd01a5-e250-472e-9b4c-dd46bc6e27ca"
      },
      "source": [
        "from matplotlib import pyplot\n",
        "\n",
        "# plot first few images\n",
        "figure = plt.figure(figsize=(20, 8))\n",
        "for i in range(9):\n",
        "    ax = figure.add_subplot(3, 5, i + 1, xticks=[], yticks=[])\n",
        "    # Display each image\n",
        "    ax.imshow(np.squeeze(x_train[index]))\n",
        "  \tax.set_title(\"{} ({})\".format(fashion_mnist_labels[predict_index], \n",
        "                                  fashion_mnist_labels[true_index]),\n",
        "                                  color=(\"green\" if predict_index == true_index else \"red\"))\n",
        "# show the figure\n",
        "pyplot.show()"
      ],
      "execution_count": 5,
      "outputs": [
        {
          "output_type": "error",
          "ename": "TabError",
          "evalue": "ignored",
          "traceback": [
            "\u001b[0;36m  File \u001b[0;32m\"<ipython-input-5-7217fe2f5947>\"\u001b[0;36m, line \u001b[0;32m9\u001b[0m\n\u001b[0;31m    ax.set_title(\"{} ({})\".format(fashion_mnist_labels[predict_index],\u001b[0m\n\u001b[0m                                                                       ^\u001b[0m\n\u001b[0;31mTabError\u001b[0m\u001b[0;31m:\u001b[0m inconsistent use of tabs and spaces in indentation\n"
          ]
        }
      ]
    },
    {
      "cell_type": "code",
      "metadata": {
        "colab": {
          "base_uri": "https://localhost:8080/"
        },
        "id": "JhyFSjU9RHws",
        "outputId": "3ba476fd-9ba3-43e1-9a3e-aad7e402791c"
      },
      "source": [
        ""
      ],
      "execution_count": null,
      "outputs": [
        {
          "output_type": "execute_result",
          "data": {
            "text/plain": [
              "array([9, 0, 0, ..., 3, 0, 5], dtype=uint8)"
            ]
          },
          "metadata": {},
          "execution_count": 9
        }
      ]
    },
    {
      "cell_type": "code",
      "metadata": {
        "id": "bwCE_ntLRcPK"
      },
      "source": [
        ""
      ],
      "execution_count": null,
      "outputs": []
    }
  ]
}