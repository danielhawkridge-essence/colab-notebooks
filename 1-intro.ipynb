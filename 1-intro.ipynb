{
  "nbformat": 4,
  "nbformat_minor": 0,
  "metadata": {
    "colab": {
      "name": "intro.ipynb",
      "provenance": [],
      "authorship_tag": "ABX9TyM3HbBB8Ex9bupcXpY68j1T",
      "include_colab_link": true
    },
    "kernelspec": {
      "name": "python3",
      "display_name": "Python 3"
    },
    "language_info": {
      "name": "python"
    }
  },
  "cells": [
    {
      "cell_type": "markdown",
      "metadata": {
        "id": "view-in-github",
        "colab_type": "text"
      },
      "source": [
        "<a href=\"https://colab.research.google.com/github/danielhawkridge-essence/colab-notebooks/blob/main/1-intro.ipynb\" target=\"_parent\"><img src=\"https://colab.research.google.com/assets/colab-badge.svg\" alt=\"Open In Colab\"/></a>"
      ]
    },
    {
      "cell_type": "markdown",
      "metadata": {
        "id": "Z5KheD7b5H5S"
      },
      "source": [
        "Welcome to the first notebook. We're working in a **free** cloud based Python environment provided by Google called Colab. \n",
        "\n",
        "Code is seperated into cells, but the underlying kernel is persistent. You can run cells by pressing play on the left hand side, or pressing shift + enter. Check it out:"
      ]
    },
    {
      "cell_type": "code",
      "metadata": {
        "id": "LiaigZQR3RPO"
      },
      "source": [
        "#this cell defines a variable python, which we then allocate the string Great\n",
        "python = \"Great\""
      ],
      "execution_count": null,
      "outputs": []
    },
    {
      "cell_type": "code",
      "metadata": {
        "id": "6WD-Ggy44Uh8"
      },
      "source": [
        "#now run this cell - you should see it prints the result Great\n",
        "python"
      ],
      "execution_count": null,
      "outputs": []
    },
    {
      "cell_type": "markdown",
      "metadata": {
        "id": "v55Ekb5K60Ba"
      },
      "source": [
        "Python is both a **functional** (you can write functions) and **object oriented** (you can write classes) programming language - you have the flexibility to write code how you want to!\n",
        "\n",
        "Let's look at functions:"
      ]
    },
    {
      "cell_type": "code",
      "metadata": {
        "id": "Jg5wHzyk7r_c"
      },
      "source": [
        "def add(a,b):\n",
        "  #a function to add two numbers together\n",
        "  result = a+b\n",
        "  return result"
      ],
      "execution_count": null,
      "outputs": []
    },
    {
      "cell_type": "code",
      "metadata": {
        "id": "NuVWpR1v75pY"
      },
      "source": [
        "#let's call the function with 2 numbers\n",
        "add(2,3)"
      ],
      "execution_count": null,
      "outputs": []
    },
    {
      "cell_type": "code",
      "metadata": {
        "id": "84Nz38ot78H4"
      },
      "source": [
        "#result is a local variable to the function add - it doesn't exist in the kernel once the add function has finished\n",
        "result"
      ],
      "execution_count": null,
      "outputs": []
    },
    {
      "cell_type": "markdown",
      "metadata": {
        "id": "pBps7U0t8IAh"
      },
      "source": [
        "Python is powerful because you can import packages (structured code) that extend functionality. These packages are open source and can be downloaded easily"
      ]
    },
    {
      "cell_type": "code",
      "metadata": {
        "id": "hglPhFKZ9F0o"
      },
      "source": [
        "# Let's look at the price of diamonds vs the carat (the weight of the diamond)\n",
        "import seaborn as sns\n",
        "data = seaborn.load_dataset('diamonds')\n",
        "sns.scatterplot(x=data['carat'], y=data['price'])"
      ],
      "execution_count": null,
      "outputs": []
    },
    {
      "cell_type": "code",
      "metadata": {
        "id": "p0f1TDPN9Ibn"
      },
      "source": [
        "# Let's download some puppies playing outside\n",
        "import requests\n",
        "import PIL\n",
        "import io\n",
        "#you can put your own url in here too!\n",
        "image_url = \"https://www.loveyourdog.com/wp-content/uploads/2020/06/Samoyed-Puppies-Outdoors.jpg\"\n",
        "response = requests.get(image_url)\n",
        "image_bytes = io.BytesIO(response.content)\n",
        "img = PIL.Image.open(image_bytes)\n",
        "display(img)\n",
        "\n"
      ],
      "execution_count": null,
      "outputs": []
    },
    {
      "cell_type": "code",
      "metadata": {
        "id": "UdhdTeMBATOc"
      },
      "source": [
        "# Let's create an interactive chart\n",
        "from IPython.display import IFrame\n",
        "IFrame('https://demo.bokeh.org/sliders', width=900, height=500)"
      ],
      "execution_count": null,
      "outputs": []
    },
    {
      "cell_type": "markdown",
      "metadata": {
        "id": "M9FxCsMFogWD"
      },
      "source": [
        "In one coding language we've just downloaded tabular data, image data, made static and dynamic charts, and even displayed image data - that's why Python is so powerful! "
      ]
    }
  ]
}